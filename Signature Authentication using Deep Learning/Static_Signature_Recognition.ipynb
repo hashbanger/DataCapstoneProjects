{
 "cells": [
  {
   "cell_type": "markdown",
   "metadata": {},
   "source": [
    "# Static Signature Recognition"
   ]
  },
  {
   "cell_type": "markdown",
   "metadata": {},
   "source": [
    "[Prashant Brahmbhatt](https://www.github.com/hashbanger)"
   ]
  },
  {
   "cell_type": "code",
   "execution_count": 8,
   "metadata": {},
   "outputs": [],
   "source": [
    "import numpy as np\n",
    "\n",
    "from keras.models import Sequential\n",
    "from keras.layers import Conv2D, ZeroPadding2D\n",
    "from keras.layers import MaxPooling2D\n",
    "from keras.layers import Flatten\n",
    "from keras.layers import Dense\n",
    "from keras.preprocessing.image import ImageDataGenerator\n",
    "from keras.preprocessing import image\n",
    "import matplotlib.pyplot as plt\n",
    "from IPython.display import display\n",
    "from PIL import Image"
   ]
  },
  {
   "cell_type": "code",
   "execution_count": 2,
   "metadata": {},
   "outputs": [],
   "source": [
    "train_datagen = ImageDataGenerator(rescale = 1/.255, shear_range = 0.2, zoom_range= 0.2, horizontal_flip = True)\n",
    "test_datagen = ImageDataGenerator(rescale=1./255)"
   ]
  },
  {
   "cell_type": "code",
   "execution_count": 3,
   "metadata": {},
   "outputs": [
    {
     "name": "stdout",
     "output_type": "stream",
     "text": [
      "Found 24 images belonging to 2 classes.\n",
      "Found 10 images belonging to 2 classes.\n"
     ]
    }
   ],
   "source": [
    "training_set = train_datagen.flow_from_directory('signatures2/train', target_size= (150, 220), batch_size= 32, class_mode = 'binary')\n",
    "test_set = test_datagen.flow_from_directory('signatures2/test', target_size= (150, 220), batch_size= 32, class_mode = 'binary')"
   ]
  },
  {
   "cell_type": "code",
   "execution_count": 4,
   "metadata": {},
   "outputs": [],
   "source": [
    "# Initialize CNN model\n",
    "classifier = Sequential()\n",
    "\n",
    "# Layer-1 Convolution\n",
    "classifier.add(Conv2D(96,(11,11),strides=(4,4), input_shape = (150,220,3), activation = 'relu'))\n",
    "\n",
    "# Layer-2 Pooling\n",
    "classifier.add(MaxPooling2D(pool_size = (3,3)))\n",
    "\n",
    "# Layer-3 Convolution\n",
    "classifier.add(ZeroPadding2D(padding=(2, 2)))\n",
    "classifier.add(Conv2D(256,(5,5),strides=(2,2), activation = 'relu'))\n",
    "\n",
    "# Layer-4 Pooling\n",
    "classifier.add(MaxPooling2D(pool_size = (3,3)))\n",
    "\n",
    "# Layer-5 Convolution\n",
    "classifier.add(ZeroPadding2D(padding=(1, 1)))\n",
    "classifier.add(Conv2D(384,(3,3),strides=(1,1), activation = 'relu'))\n",
    "\n",
    "# Layer-6 Convolution\n",
    "classifier.add(ZeroPadding2D(padding=(1, 1)))\n",
    "classifier.add(Conv2D(384,(3,3),strides=(1,1), activation = 'relu'))\n",
    "\n",
    "# Layer-7 Convolution\n",
    "classifier.add(ZeroPadding2D(padding=(1, 1)))\n",
    "classifier.add(Conv2D(256,(3,3),strides=(1,1), activation = 'relu'))\n",
    "\n",
    "# Layer-8 Pooling\n",
    "# classifier.add(MaxPooling2D(pool_size = (3,3)))\n",
    "\n",
    "# Layer-9 Flattening\n",
    "classifier.add(Flatten())\n",
    "\n",
    "# Layer-10 Full Connection\n",
    "classifier.add(Dense(units = 128, activation = \"relu\"))\n",
    "classifier.add(Dense(units = 1, activation = \"sigmoid\"))\n",
    "\n",
    "# Compiling the CNN\n",
    "classifier.compile(optimizer = 'adam', loss = 'binary_crossentropy', metrics = ['accuracy'])"
   ]
  },
  {
   "cell_type": "code",
   "execution_count": 5,
   "metadata": {},
   "outputs": [
    {
     "name": "stdout",
     "output_type": "stream",
     "text": [
      "Epoch 1/20\n",
      "24/24 [==============================] - 13s 559ms/step - loss: 31.5877 - accuracy: 0.5312 - val_loss: 0.6932 - val_accuracy: 0.5000\n",
      "Epoch 2/20\n",
      "24/24 [==============================] - 13s 524ms/step - loss: 0.6908 - accuracy: 0.5903 - val_loss: 0.6947 - val_accuracy: 0.5000\n",
      "Epoch 3/20\n",
      "24/24 [==============================] - 12s 516ms/step - loss: 0.6362 - accuracy: 0.6493 - val_loss: 0.7189 - val_accuracy: 0.5000\n",
      "Epoch 4/20\n",
      "24/24 [==============================] - 13s 540ms/step - loss: 0.6928 - accuracy: 0.5104 - val_loss: 0.6932 - val_accuracy: 0.5000\n",
      "Epoch 5/20\n",
      "24/24 [==============================] - 13s 546ms/step - loss: 0.6829 - accuracy: 0.5434 - val_loss: 0.6937 - val_accuracy: 0.5000\n",
      "Epoch 6/20\n",
      "24/24 [==============================] - 12s 515ms/step - loss: 0.6934 - accuracy: 0.5017 - val_loss: 0.6934 - val_accuracy: 0.5000\n",
      "Epoch 7/20\n",
      "24/24 [==============================] - 12s 505ms/step - loss: 0.6928 - accuracy: 0.5017 - val_loss: 0.6931 - val_accuracy: 0.5000\n",
      "Epoch 8/20\n",
      "24/24 [==============================] - 12s 503ms/step - loss: 0.6931 - accuracy: 0.5000 - val_loss: 0.6931 - val_accuracy: 0.5000\n",
      "Epoch 9/20\n",
      "24/24 [==============================] - 12s 502ms/step - loss: 0.6931 - accuracy: 0.5000 - val_loss: 0.6931 - val_accuracy: 0.5000\n",
      "Epoch 10/20\n",
      "24/24 [==============================] - 12s 501ms/step - loss: 0.6927 - accuracy: 0.5017 - val_loss: 0.6931 - val_accuracy: 0.5000\n",
      "Epoch 11/20\n",
      "24/24 [==============================] - 12s 503ms/step - loss: 0.6915 - accuracy: 0.5035 - val_loss: 0.6932 - val_accuracy: 0.5000\n",
      "Epoch 12/20\n",
      "24/24 [==============================] - 12s 502ms/step - loss: 0.6876 - accuracy: 0.5087 - val_loss: 0.6932 - val_accuracy: 0.5000\n",
      "Epoch 13/20\n",
      "24/24 [==============================] - 12s 502ms/step - loss: 0.6863 - accuracy: 0.5104 - val_loss: 0.6932 - val_accuracy: 0.5000\n",
      "Epoch 14/20\n",
      "24/24 [==============================] - 12s 510ms/step - loss: 0.7094 - accuracy: 0.5295 - val_loss: 0.6934 - val_accuracy: 0.5000\n",
      "Epoch 15/20\n",
      "24/24 [==============================] - 12s 501ms/step - loss: 0.6934 - accuracy: 0.5000 - val_loss: 0.6932 - val_accuracy: 0.5000\n",
      "Epoch 16/20\n",
      "24/24 [==============================] - 12s 506ms/step - loss: 0.6932 - accuracy: 0.5000 - val_loss: 0.6931 - val_accuracy: 0.5000\n",
      "Epoch 17/20\n",
      "24/24 [==============================] - 12s 507ms/step - loss: 0.6931 - accuracy: 0.5000 - val_loss: 0.6931 - val_accuracy: 0.5000\n",
      "Epoch 18/20\n",
      "24/24 [==============================] - 13s 527ms/step - loss: 0.6931 - accuracy: 0.5000 - val_loss: 0.6931 - val_accuracy: 0.5000\n",
      "Epoch 19/20\n",
      "24/24 [==============================] - 13s 540ms/step - loss: 0.6931 - accuracy: 0.5000 - val_loss: 0.6931 - val_accuracy: 0.5000\n",
      "Epoch 20/20\n",
      "24/24 [==============================] - 12s 516ms/step - loss: 0.6931 - accuracy: 0.5000 - val_loss: 0.6931 - val_accuracy: 0.5000\n"
     ]
    },
    {
     "data": {
      "text/plain": [
       "<keras.callbacks.callbacks.History at 0x7f2acc0d6710>"
      ]
     },
     "execution_count": 5,
     "metadata": {},
     "output_type": "execute_result"
    }
   ],
   "source": [
    "classifier.fit_generator(training_set, \n",
    "                         steps_per_epoch = 24, \n",
    "                         epochs = 20, \n",
    "                         validation_data = test_set, \n",
    "                         validation_steps = 30\n",
    "                        )"
   ]
  },
  {
   "cell_type": "code",
   "execution_count": 6,
   "metadata": {},
   "outputs": [],
   "source": [
    "def test_image(folder_name, filename):\n",
    "    test_image = image.load_img('signatures2/test/'+ folder_name + '/' +filename, target_size = (150, 220))\n",
    "    plt.imshow(test_image)\n",
    "    plt.xticks([])\n",
    "    plt.yticks([])\n",
    "    test_image = image.img_to_array(test_image)\n",
    "    test_image = np.expand_dims(test_image, axis = 0)\n",
    "    result = classifier.predict(test_image)\n",
    "    training_set.class_indices\n",
    "    print(\"Predicted Score: \" + str(result[0][0]))\n",
    "    if result[0][0] >= 0.5:\n",
    "        prediction = 'GENUINE'\n",
    "    else:\n",
    "        prediction = 'FORGED'\n",
    "    print(\"Result : \" + prediction)"
   ]
  },
  {
   "cell_type": "markdown",
   "metadata": {},
   "source": [
    "### Testing for Forged"
   ]
  },
  {
   "cell_type": "code",
   "execution_count": 9,
   "metadata": {},
   "outputs": [
    {
     "name": "stdout",
     "output_type": "stream",
     "text": [
      "Predicted Score: 0.500006\n",
      "Result : GENUINE\n"
     ]
    },
    {
     "data": {
      "image/png": "[encoded data removed]",
      "text/plain": [
       "<Figure size 432x288 with 1 Axes>"
      ]
     },
     "metadata": {},
     "output_type": "display_data"
    }
   ],
   "source": [
    "test_image(folder_name = 'forged',filename = 'NFI-00301002.png')"
   ]
  },
  {
   "cell_type": "code",
   "execution_count": 10,
   "metadata": {},
   "outputs": [
    {
     "name": "stdout",
     "output_type": "stream",
     "text": [
      "Predicted Score: 0.500006\n",
      "Result : GENUINE\n"
     ]
    },
    {
     "data": {
      "image/png": "[encoded data removed]",
      "text/plain": [
       "<Figure size 432x288 with 1 Axes>"
      ]
     },
     "metadata": {},
     "output_type": "display_data"
    }
   ],
   "source": [
    "test_image(folder_name = 'forged',filename = 'NFI-00302002.png')"
   ]
  },
  {
   "cell_type": "code",
   "execution_count": 11,
   "metadata": {},
   "outputs": [
    {
     "name": "stdout",
     "output_type": "stream",
     "text": [
      "Predicted Score: 0.500006\n",
      "Result : GENUINE\n"
     ]
    },
    {
     "data": {
      "image/png": "[encoded data removed]",
      "text/plain": [
       "<Figure size 432x288 with 1 Axes>"
      ]
     },
     "metadata": {},
     "output_type": "display_data"
    }
   ],
   "source": [
    "test_image(folder_name = 'forged',filename = 'NFI-00303002.png')"
   ]
  },
  {
   "cell_type": "markdown",
   "metadata": {},
   "source": [
    "### Testing for Genuine"
   ]
  },
  {
   "cell_type": "code",
   "execution_count": 12,
   "metadata": {},
   "outputs": [
    {
     "name": "stdout",
     "output_type": "stream",
     "text": [
      "Predicted Score: 0.500006\n",
      "Result : GENUINE\n"
     ]
    },
    {
     "data": {
      "image/png": "[encoded data removed]",
      "text/plain": [
       "<Figure size 432x288 with 1 Axes>"
      ]
     },
     "metadata": {},
     "output_type": "display_data"
    }
   ],
   "source": [
    "test_image(folder_name = 'genuine',filename = 'NFI-00201002.png')"
   ]
  },
  {
   "cell_type": "code",
   "execution_count": 13,
   "metadata": {},
   "outputs": [
    {
     "name": "stdout",
     "output_type": "stream",
     "text": [
      "Predicted Score: 0.500006\n",
      "Result : GENUINE\n"
     ]
    },
    {
     "data": {
      "image/png": "[encoded data removed]",
      "text/plain": [
       "<Figure size 432x288 with 1 Axes>"
      ]
     },
     "metadata": {},
     "output_type": "display_data"
    }
   ],
   "source": [
    "test_image(folder_name = 'genuine',filename = 'NFI-00202002.png')"
   ]
  },
  {
   "cell_type": "code",
   "execution_count": 57,
   "metadata": {},
   "outputs": [
    {
     "name": "stdout",
     "output_type": "stream",
     "text": [
      "Predicted Score: 0.5938452\n",
      "Result : GENUINE\n"
     ]
    },
    {
     "data": {
      "image/png": "[encoded data removed]",
      "text/plain": [
       "<Figure size 432x288 with 1 Axes>"
      ]
     },
     "metadata": {},
     "output_type": "display_data"
    }
   ],
   "source": [
    "test_image(folder_name = 'genuine',filename = 'NFI-00203002.png')"
   ]
  },
  {
   "cell_type": "markdown",
   "metadata": {},
   "source": [
    "____"
   ]
  }
 ],
 "metadata": {
  "kernelspec": {
   "display_name": "Python 3",
   "language": "python",
   "name": "python3"
  },
  "language_info": {
   "codemirror_mode": {
    "name": "ipython",
    "version": 3
   },
   "file_extension": ".py",
   "mimetype": "text/x-python",
   "name": "python",
   "nbconvert_exporter": "python",
   "pygments_lexer": "ipython3",
   "version": "3.7.4"
  }
 },
 "nbformat": 4,
 "nbformat_minor": 4
}
