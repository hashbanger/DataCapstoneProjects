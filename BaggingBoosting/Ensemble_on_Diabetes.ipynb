{
 "cells": [
  {
   "cell_type": "markdown",
   "metadata": {},
   "source": [
    "## Ensemble on Diabetes\n",
    "\n",
    "### Methods of Ensemble\n",
    "There are three most prominent ensemble methods namely\n",
    "\n",
    "- **Bagging**\n",
    "- **Boosting**\n",
    "    - *AdaBoost*\n",
    "    - *GradientBoost*\n",
    "    - *XGBoost*\n",
    "- **Stacking**  \n"
   ]
  },
  {
   "cell_type": "markdown",
   "metadata": {},
   "source": [
    "### Bagging"
   ]
  },
  {
   "cell_type": "markdown",
   "metadata": {},
   "source": [
    "#### Importing the libraries"
   ]
  },
  {
   "cell_type": "code",
   "execution_count": 160,
   "metadata": {},
   "outputs": [],
   "source": [
    "import itertools\n",
    "import numpy as np\n",
    "import pandas as pd\n",
    "import matplotlib.pyplot as plt\n",
    "import seaborn as sns\n",
    "from sklearn import datasets\n",
    "\n",
    "\n",
    "from warnings import filterwarnings\n",
    "filterwarnings('ignore')\n",
    "\n",
    "sns.set_style('darkgrid')"
   ]
  },
  {
   "cell_type": "code",
   "execution_count": 161,
   "metadata": {},
   "outputs": [
    {
     "data": {
      "text/html": [
       "<div>\n",
       "<style scoped>\n",
       "    .dataframe tbody tr th:only-of-type {\n",
       "        vertical-align: middle;\n",
       "    }\n",
       "\n",
       "    .dataframe tbody tr th {\n",
       "        vertical-align: top;\n",
       "    }\n",
       "\n",
       "    .dataframe thead th {\n",
       "        text-align: right;\n",
       "    }\n",
       "</style>\n",
       "<table border=\"1\" class=\"dataframe\">\n",
       "  <thead>\n",
       "    <tr style=\"text-align: right;\">\n",
       "      <th></th>\n",
       "      <th>age</th>\n",
       "      <th>gender</th>\n",
       "      <th>cp</th>\n",
       "      <th>trestbps</th>\n",
       "      <th>chol</th>\n",
       "      <th>fps</th>\n",
       "      <th>restecg</th>\n",
       "      <th>thalach</th>\n",
       "      <th>exang</th>\n",
       "      <th>oldpeak</th>\n",
       "      <th>slope</th>\n",
       "      <th>ca</th>\n",
       "      <th>thal</th>\n",
       "      <th>class</th>\n",
       "    </tr>\n",
       "  </thead>\n",
       "  <tbody>\n",
       "    <tr>\n",
       "      <th>0</th>\n",
       "      <td>63</td>\n",
       "      <td>1</td>\n",
       "      <td>1</td>\n",
       "      <td>145</td>\n",
       "      <td>233</td>\n",
       "      <td>1</td>\n",
       "      <td>2</td>\n",
       "      <td>150</td>\n",
       "      <td>0</td>\n",
       "      <td>2.3</td>\n",
       "      <td>3</td>\n",
       "      <td>0</td>\n",
       "      <td>6</td>\n",
       "      <td>0</td>\n",
       "    </tr>\n",
       "    <tr>\n",
       "      <th>1</th>\n",
       "      <td>67</td>\n",
       "      <td>1</td>\n",
       "      <td>4</td>\n",
       "      <td>160</td>\n",
       "      <td>286</td>\n",
       "      <td>0</td>\n",
       "      <td>2</td>\n",
       "      <td>108</td>\n",
       "      <td>1</td>\n",
       "      <td>1.5</td>\n",
       "      <td>2</td>\n",
       "      <td>3</td>\n",
       "      <td>3</td>\n",
       "      <td>2</td>\n",
       "    </tr>\n",
       "    <tr>\n",
       "      <th>2</th>\n",
       "      <td>67</td>\n",
       "      <td>1</td>\n",
       "      <td>4</td>\n",
       "      <td>120</td>\n",
       "      <td>229</td>\n",
       "      <td>0</td>\n",
       "      <td>2</td>\n",
       "      <td>129</td>\n",
       "      <td>1</td>\n",
       "      <td>2.6</td>\n",
       "      <td>2</td>\n",
       "      <td>2</td>\n",
       "      <td>7</td>\n",
       "      <td>1</td>\n",
       "    </tr>\n",
       "    <tr>\n",
       "      <th>3</th>\n",
       "      <td>37</td>\n",
       "      <td>1</td>\n",
       "      <td>3</td>\n",
       "      <td>130</td>\n",
       "      <td>250</td>\n",
       "      <td>0</td>\n",
       "      <td>0</td>\n",
       "      <td>187</td>\n",
       "      <td>0</td>\n",
       "      <td>3.5</td>\n",
       "      <td>3</td>\n",
       "      <td>0</td>\n",
       "      <td>3</td>\n",
       "      <td>0</td>\n",
       "    </tr>\n",
       "    <tr>\n",
       "      <th>4</th>\n",
       "      <td>41</td>\n",
       "      <td>0</td>\n",
       "      <td>2</td>\n",
       "      <td>130</td>\n",
       "      <td>204</td>\n",
       "      <td>0</td>\n",
       "      <td>2</td>\n",
       "      <td>172</td>\n",
       "      <td>0</td>\n",
       "      <td>1.4</td>\n",
       "      <td>1</td>\n",
       "      <td>0</td>\n",
       "      <td>3</td>\n",
       "      <td>0</td>\n",
       "    </tr>\n",
       "  </tbody>\n",
       "</table>\n",
       "</div>"
      ],
      "text/plain": [
       "   age  gender  cp  trestbps  chol  fps  restecg  thalach  exang  oldpeak  \\\n",
       "0   63       1   1       145   233    1        2      150      0      2.3   \n",
       "1   67       1   4       160   286    0        2      108      1      1.5   \n",
       "2   67       1   4       120   229    0        2      129      1      2.6   \n",
       "3   37       1   3       130   250    0        0      187      0      3.5   \n",
       "4   41       0   2       130   204    0        2      172      0      1.4   \n",
       "\n",
       "   slope ca thal  class  \n",
       "0      3  0    6      0  \n",
       "1      2  3    3      2  \n",
       "2      2  2    7      1  \n",
       "3      3  0    3      0  \n",
       "4      1  0    3      0  "
      ]
     },
     "execution_count": 161,
     "metadata": {},
     "output_type": "execute_result"
    }
   ],
   "source": [
    "df = pd.read_csv('Diabetes.csv')\n",
    "df.head()"
   ]
  },
  {
   "cell_type": "code",
   "execution_count": 172,
   "metadata": {},
   "outputs": [
    {
     "name": "stdout",
     "output_type": "stream",
     "text": [
      "age\n",
      "[63 67 37 41 56 62 57 53 44 52 48 54 49 64 58 60 50 66 43 40 69 59 42 55\n",
      " 61 65 71 51 46 45 39 68 47 34 35 29 70 77 38 74 76]\n",
      "\n",
      "gender\n",
      "[1 0]\n",
      "\n",
      "cp\n",
      "[1 4 3 2]\n",
      "\n",
      "trestbps\n",
      "[145 160 120 130 140 172 150 110 132 117 135 112 105 124 125 142 128 170\n",
      " 155 104 180 138 108 134 122 115 118 100 200  94 165 102 152 101 126 174\n",
      " 148 178 158 192 129 144 123 136 146 106 156 154 114 164]\n",
      "\n",
      "chol\n",
      "[233 286 229 250 204 236 268 354 254 203 192 294 256 263 199 168 239 275\n",
      " 266 211 283 284 224 206 219 340 226 247 167 230 335 234 177 276 353 243\n",
      " 225 302 212 330 175 417 197 198 290 253 172 273 213 305 216 304 188 282\n",
      " 185 232 326 231 269 267 248 360 258 308 245 270 208 264 321 274 325 235\n",
      " 257 164 141 252 255 201 222 260 182 303 265 309 307 249 186 341 183 407\n",
      " 217 288 220 209 227 261 174 281 221 205 240 289 318 298 564 246 322 299\n",
      " 300 293 277 214 207 160 394 184 315 409 244 195 196 126 313 259 200 262\n",
      " 215 228 193 271 210 327 149 295 306 178 237 218 223 242 319 166 180 311\n",
      " 278 342 169 187 157 176 241 131]\n",
      "\n",
      "fps\n",
      "[1 0]\n",
      "\n",
      "restecg\n",
      "[2 0 1]\n",
      "\n",
      "thalach\n",
      "[150 108 129 187 172 178 160 163 147 155 148 153 142 173 162 174 168 139\n",
      " 171 144 132 158 114 151 161 179 120 112 137 157 169 165 123 128 152 140\n",
      " 188 109 125 131 170 113  99 177 141 180 111 143 182 156 149 145 146 175\n",
      " 186 185 159 130 190 136  97 127 154 133 126 202 103 166 164 184 124 122\n",
      "  96 138  88 105 194 195 106 115 167  95 192 117 121 116  71 118 181 134\n",
      "  90]\n",
      "\n",
      "exang\n",
      "[0 1]\n",
      "\n",
      "oldpeak\n",
      "[2.3 1.5 2.6 3.5 1.4 0.8 3.6 0.6 3.1 0.4 1.3 0.  0.5 1.6 1.  1.2 0.2 1.8\n",
      " 3.2 2.4 2.  2.5 2.2 2.8 3.  3.4 6.2 4.  5.6 2.9 0.1 2.1 1.9 4.2 0.9 1.1\n",
      " 3.8 0.7 0.3 4.4]\n",
      "\n",
      "slope\n",
      "[3 2 1]\n",
      "\n",
      "ca\n",
      "[0 3 2 1]\n",
      "\n",
      "thal\n",
      "[6 3 7]\n",
      "\n",
      "class\n",
      "[0 2 1 3 4]\n",
      "\n"
     ]
    }
   ],
   "source": [
    "for col in df.columns:\n",
    "    print(col)\n",
    "    print(df[col].unique())\n",
    "    print()"
   ]
  },
  {
   "cell_type": "markdown",
   "metadata": {},
   "source": [
    "Substituting the '?' with NaN value. So we can rop it easily."
   ]
  },
  {
   "cell_type": "code",
   "execution_count": 163,
   "metadata": {},
   "outputs": [],
   "source": [
    "df = df.replace('?',np.NaN)\n",
    "df = df.dropna()"
   ]
  },
  {
   "cell_type": "code",
   "execution_count": 171,
   "metadata": {},
   "outputs": [],
   "source": [
    "df['ca'] = df['ca'].astype('int')\n",
    "df['thal'] = df['thal'].astype('int')"
   ]
  },
  {
   "cell_type": "markdown",
   "metadata": {},
   "source": [
    "#### Splitting the dataset"
   ]
  },
  {
   "cell_type": "code",
   "execution_count": 173,
   "metadata": {},
   "outputs": [],
   "source": [
    "X = df.iloc[:, :-1]\n",
    "y = df.iloc[:, -1]"
   ]
  },
  {
   "cell_type": "code",
   "execution_count": 174,
   "metadata": {},
   "outputs": [],
   "source": [
    "from sklearn.model_selection import train_test_split\n",
    "X_train, X_test, y_train, y_test = train_test_split(X, y, test_size = 0.25, shuffle = True, random_state = 101)"
   ]
  },
  {
   "cell_type": "markdown",
   "metadata": {},
   "source": [
    "**Instantiating the Classifier Models** \n",
    "\n",
    "We are using two individual classifiers\n",
    "\n",
    "- Decision Tree\n",
    "- K Nearest Neighbors"
   ]
  },
  {
   "cell_type": "code",
   "execution_count": 175,
   "metadata": {},
   "outputs": [],
   "source": [
    "from sklearn.tree import DecisionTreeClassifier\n",
    "classifier1 = DecisionTreeClassifier(criterion= 'gini', max_depth= 1)"
   ]
  },
  {
   "cell_type": "code",
   "execution_count": 176,
   "metadata": {},
   "outputs": [],
   "source": [
    "from sklearn.neighbors import KNeighborsClassifier\n",
    "classifier2 = KNeighborsClassifier(n_neighbors= 2)"
   ]
  },
  {
   "cell_type": "code",
   "execution_count": 177,
   "metadata": {},
   "outputs": [],
   "source": [
    "from sklearn.ensemble import BaggingClassifier\n",
    "bagging1 = BaggingClassifier(base_estimator= classifier1, n_estimators= 10, max_samples=0.8)\n",
    "bagging2 = BaggingClassifier(base_estimator= classifier2, n_estimators= 10, max_samples=0.8)"
   ]
  },
  {
   "cell_type": "code",
   "execution_count": 178,
   "metadata": {},
   "outputs": [],
   "source": [
    "from sklearn.model_selection import cross_val_score"
   ]
  },
  {
   "cell_type": "code",
   "execution_count": 179,
   "metadata": {},
   "outputs": [
    {
     "name": "stdout",
     "output_type": "stream",
     "text": [
      "Accuracy for Single Decision Tree  : 48.64 %\n",
      "Accuracy for Single K-Nearest Neighbors: 48.18 %\n",
      "Accuracy for Bagged Decision Tree: 53.64 %\n",
      "Accuracy for Bagged K-Nearest Neighbors: 45.47 %\n"
     ]
    }
   ],
   "source": [
    "scores = cross_val_score(classifier1, X_train, y_train, scoring= 'accuracy')\n",
    "print(\"Accuracy for Single Decision Tree  : {:.2f} %\".format(scores.mean()*100))\n",
    "scores = cross_val_score(classifier2, X_train, y_train, scoring= 'accuracy')\n",
    "print(\"Accuracy for Single K-Nearest Neighbors: {:.2f} %\".format(scores.mean()*100))\n",
    "scores = cross_val_score(bagging1, X_train, y_train, scoring= 'accuracy')\n",
    "print(\"Accuracy for Bagged Decision Tree: {:.2f} %\".format(scores.mean()*100))\n",
    "scores = cross_val_score(bagging2, X_train, y_train, scoring= 'accuracy')\n",
    "print(\"Accuracy for Bagged K-Nearest Neighbors: {:.2f} %\".format(scores.mean()*100))"
   ]
  },
  {
   "cell_type": "markdown",
   "metadata": {},
   "source": [
    "### Boosting "
   ]
  },
  {
   "cell_type": "markdown",
   "metadata": {},
   "source": [
    "Using **AdaBoost**"
   ]
  },
  {
   "cell_type": "code",
   "execution_count": 180,
   "metadata": {},
   "outputs": [],
   "source": [
    "from sklearn.ensemble import AdaBoostClassifier"
   ]
  },
  {
   "cell_type": "code",
   "execution_count": 181,
   "metadata": {},
   "outputs": [
    {
     "name": "stdout",
     "output_type": "stream",
     "text": [
      "Accuracy for Estimators = 1: 0.48636\n",
      "Accuracy for Estimators = 3: 0.49091\n",
      "Accuracy for Estimators = 5: 0.53586\n",
      "Accuracy for Estimators = 7: 0.59889\n"
     ]
    }
   ],
   "source": [
    "estimators_names = ['Estimators = 1', 'Estimators = 3', 'Estimators = 5', 'Estimators = 7']\n",
    "numEst = [1, 3, 5, 7]\n",
    "\n",
    "for num_est, est_name in zip(numEst, estimators_names):\n",
    "    \n",
    "    estimator = AdaBoostClassifier(base_estimator= classifier1, n_estimators= num_est, algorithm= 'SAMME')\n",
    "    estimator.fit(X_train,y_train)\n",
    "    \n",
    "    scores = cross_val_score(estimator, X_train, y_train, scoring= 'accuracy')\n",
    "    print(\"Accuracy for {}: {:.5f}\".format(est_name, scores.mean()))"
   ]
  },
  {
   "cell_type": "markdown",
   "metadata": {},
   "source": [
    "Using **Gradient** and **Xtra-Gradient Boosting**"
   ]
  },
  {
   "cell_type": "code",
   "execution_count": 182,
   "metadata": {},
   "outputs": [],
   "source": [
    "from xgboost import XGBClassifier\n",
    "from sklearn.ensemble import GradientBoostingClassifier"
   ]
  },
  {
   "cell_type": "code",
   "execution_count": 183,
   "metadata": {},
   "outputs": [
    {
     "name": "stdout",
     "output_type": "stream",
     "text": [
      "Accuracy for GradientBoostingClassifier: 0.55414\n",
      "Accuracy for XGBClassifier: 0.54485\n"
     ]
    }
   ],
   "source": [
    "estimators = [GradientBoostingClassifier, XGBClassifier]\n",
    "est_names = ['GradientBoostingClassifier', 'XGBClassifier']\n",
    "for i, ests in enumerate(zip(estimators,est_names)):\n",
    "    \n",
    "    est, est_name = ests\n",
    "    estimator = est()\n",
    "    estimator.fit(X_train,y_train)\n",
    "    scores = cross_val_score(estimator, X_train, y_train, scoring= 'accuracy')\n",
    "    print(\"Accuracy for {}: {:.5f}\".format(est_name, scores.mean()))    "
   ]
  },
  {
   "cell_type": "markdown",
   "metadata": {},
   "source": [
    "### Stacking "
   ]
  },
  {
   "cell_type": "code",
   "execution_count": 184,
   "metadata": {},
   "outputs": [],
   "source": [
    "from sklearn.ensemble import RandomForestClassifier\n",
    "from sklearn.linear_model import LogisticRegression\n",
    "from sklearn.naive_bayes import GaussianNB\n",
    "from mlxtend.classifier import StackingClassifier"
   ]
  },
  {
   "cell_type": "code",
   "execution_count": 185,
   "metadata": {},
   "outputs": [],
   "source": [
    "classifier1 = KNeighborsClassifier(n_neighbors= 10)\n",
    "classifier2 = RandomForestClassifier()\n",
    "classifier3 = LogisticRegression()\n",
    "nb = GaussianNB()\n",
    "stackedLR = StackingClassifier(classifiers= [classifier1, classifier2, classifier3], meta_classifier= nb)"
   ]
  },
  {
   "cell_type": "code",
   "execution_count": 186,
   "metadata": {},
   "outputs": [
    {
     "name": "stdout",
     "output_type": "stream",
     "text": [
      "Accuracy for K Neighbors: 0.49990\n",
      "Accuracy for Random Forest: 0.55838\n",
      "Accuracy for Logistic Regression: 0.59030\n",
      "Accuracy for Stacked with Naive Bayes: 0.55434\n"
     ]
    }
   ],
   "source": [
    "estimators_names = ['K Neighbors', 'Random Forest', 'Logistic Regression', 'Stacked with Naive Bayes']\n",
    "estimators_list = [classifier1, classifier2, classifier3, stackedLR ]\n",
    "\n",
    "stacking_mean = []\n",
    "stacking_std = []\n",
    "\n",
    "for estimator, est_name in zip(estimators_list, estimators_names):\n",
    "\n",
    "    scores = cross_val_score(estimator, X_train, y_train, scoring= 'accuracy')\n",
    "    print(\"Accuracy for {}: {:.5f}\".format(est_name, scores.mean()))    \n",
    "    \n",
    "    estimator.fit(X_train, y_train)\n",
    "\n",
    "    stacking_mean.append(scores.mean())\n",
    "    stacking_std.append(scores.std())"
   ]
  },
  {
   "cell_type": "markdown",
   "metadata": {},
   "source": [
    "#### *de nada!*"
   ]
  }
 ],
 "metadata": {
  "kernelspec": {
   "display_name": "Python 3",
   "language": "python",
   "name": "python3"
  },
  "language_info": {
   "codemirror_mode": {
    "name": "ipython",
    "version": 3
   },
   "file_extension": ".py",
   "mimetype": "text/x-python",
   "name": "python",
   "nbconvert_exporter": "python",
   "pygments_lexer": "ipython3",
   "version": "3.7.6"
  }
 },
 "nbformat": 4,
 "nbformat_minor": 4
}
